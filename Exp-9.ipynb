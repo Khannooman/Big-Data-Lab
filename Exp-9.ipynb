{
 "cells": [
  {
   "cell_type": "code",
   "execution_count": 3,
   "id": "cfdf010c-94b8-40e2-b01a-472a53be862b",
   "metadata": {},
   "outputs": [],
   "source": [
    "spark.stop()"
   ]
  },
  {
   "cell_type": "code",
   "execution_count": 4,
   "id": "b777c638-70a1-4bff-826a-fdc81d9c35b2",
   "metadata": {},
   "outputs": [
    {
     "name": "stderr",
     "output_type": "stream",
     "text": [
      "24/08/14 10:25:30 WARN Utils: Your hostname, nooman resolves to a loopback address: 127.0.1.1; using 192.168.15.103 instead (on interface enp4s0)\n",
      "24/08/14 10:25:30 WARN Utils: Set SPARK_LOCAL_IP if you need to bind to another address\n",
      "Setting default log level to \"WARN\".\n",
      "To adjust logging level use sc.setLogLevel(newLevel). For SparkR, use setLogLevel(newLevel).\n",
      "24/08/14 10:25:31 WARN NativeCodeLoader: Unable to load native-hadoop library for your platform... using builtin-java classes where applicable\n"
     ]
    },
    {
     "data": {
      "text/html": [
       "\n",
       "            <div>\n",
       "                <p><b>SparkSession - in-memory</b></p>\n",
       "                \n",
       "        <div>\n",
       "            <p><b>SparkContext</b></p>\n",
       "\n",
       "            <p><a href=\"http://192.168.15.103:4040\">Spark UI</a></p>\n",
       "\n",
       "            <dl>\n",
       "              <dt>Version</dt>\n",
       "                <dd><code>v3.5.1</code></dd>\n",
       "              <dt>Master</dt>\n",
       "                <dd><code>local[*]</code></dd>\n",
       "              <dt>AppName</dt>\n",
       "                <dd><code>pyspark-shell</code></dd>\n",
       "            </dl>\n",
       "        </div>\n",
       "        \n",
       "            </div>\n",
       "        "
      ],
      "text/plain": [
       "<pyspark.sql.session.SparkSession at 0x780bcb524cd0>"
      ]
     },
     "execution_count": 4,
     "metadata": {},
     "output_type": "execute_result"
    }
   ],
   "source": [
    "from pyspark.sql import SparkSession\n",
    "SparkSession.builder.master(\"local[*]\").getOrCreate()"
   ]
  },
  {
   "cell_type": "code",
   "execution_count": 4,
   "id": "b9e9ea88-4a0e-4d2f-81a6-40c3323da6c8",
   "metadata": {},
   "outputs": [],
   "source": [
    "import pyspark\n",
    "from pyspark.sql import SparkSession\n",
    "spark = SparkSession \\\n",
    "        .builder \\\n",
    "        .appName(\"Spark with log data\") \\\n",
    "        .master(\"local[*]\") \\\n",
    "        .config(\"spark.executor.memory\", \"1g\") \\\n",
    "        .config(\"spark.executor.cores\", \"2\") \\\n",
    "        .config(\"spark.executor.instances\", \"4\") \\\n",
    "        .config(\"spark.driver.memory\", \"1g\") \\\n",
    "        .config(\"spark.driver.cores\", \"2\") \\\n",
    "        .getOrCreate()"
   ]
  },
  {
   "cell_type": "code",
   "execution_count": 5,
   "id": "971de894-d606-4e49-a380-fb41ed1ac9ea",
   "metadata": {},
   "outputs": [],
   "source": [
    "import re\n",
    "import pandas as pd"
   ]
  },
  {
   "cell_type": "code",
   "execution_count": 7,
   "id": "670c1054-b979-41b6-ac8e-cf6699318a2c",
   "metadata": {},
   "outputs": [],
   "source": [
    "df = spark.read.text(\"/Nasalogdata\")"
   ]
  },
  {
   "cell_type": "code",
   "execution_count": 8,
   "id": "9aa14b8f-6dfb-44b7-a7c8-3d67231603bb",
   "metadata": {},
   "outputs": [
    {
     "name": "stderr",
     "output_type": "stream",
     "text": [
      "                                                                                \r"
     ]
    },
    {
     "data": {
      "text/plain": [
       "1569898"
      ]
     },
     "execution_count": 8,
     "metadata": {},
     "output_type": "execute_result"
    }
   ],
   "source": [
    "df.count()"
   ]
  },
  {
   "cell_type": "code",
   "execution_count": 9,
   "id": "78c7aa88-ac2a-4b66-afd0-2bf3817f95fe",
   "metadata": {},
   "outputs": [
    {
     "data": {
      "text/plain": [
       "8"
      ]
     },
     "execution_count": 9,
     "metadata": {},
     "output_type": "execute_result"
    }
   ],
   "source": [
    "df.rdd.getNumPartitions()"
   ]
  },
  {
   "cell_type": "code",
   "execution_count": 10,
   "id": "daf74916-a1ea-4b45-877f-5f13582411c9",
   "metadata": {},
   "outputs": [
    {
     "name": "stdout",
     "output_type": "stream",
     "text": [
      "+--------------------------------------------------------------------------------------------------------------------------+\n",
      "|value                                                                                                                     |\n",
      "+--------------------------------------------------------------------------------------------------------------------------+\n",
      "|in24.inetnebr.com - - [01/Aug/1995:00:00:01 -0400] \"GET /shuttle/missions/sts-68/news/sts-68-mcc-05.txt HTTP/1.0\" 200 1839|\n",
      "|uplherc.upl.com - - [01/Aug/1995:00:00:07 -0400] \"GET / HTTP/1.0\" 304 0                                                   |\n",
      "|uplherc.upl.com - - [01/Aug/1995:00:00:08 -0400] \"GET /images/ksclogo-medium.gif HTTP/1.0\" 304 0                          |\n",
      "|uplherc.upl.com - - [01/Aug/1995:00:00:08 -0400] \"GET /images/MOSAIC-logosmall.gif HTTP/1.0\" 304 0                        |\n",
      "|uplherc.upl.com - - [01/Aug/1995:00:00:08 -0400] \"GET /images/USA-logosmall.gif HTTP/1.0\" 304 0                           |\n",
      "+--------------------------------------------------------------------------------------------------------------------------+\n",
      "only showing top 5 rows\n",
      "\n"
     ]
    }
   ],
   "source": [
    "df.show(5, truncate=False)"
   ]
  },
  {
   "cell_type": "code",
   "execution_count": 11,
   "id": "7b5fe089-05b7-441d-8749-96887e014604",
   "metadata": {},
   "outputs": [],
   "source": [
    "rdd = df.rdd"
   ]
  },
  {
   "cell_type": "code",
   "execution_count": 12,
   "id": "4e2e901b-d23c-4148-b252-4ba7a7a81322",
   "metadata": {},
   "outputs": [
    {
     "name": "stderr",
     "output_type": "stream",
     "text": [
      "                                                                                \r"
     ]
    },
    {
     "data": {
      "text/plain": [
       "[Row(value='in24.inetnebr.com - - [01/Aug/1995:00:00:01 -0400] \"GET /shuttle/missions/sts-68/news/sts-68-mcc-05.txt HTTP/1.0\" 200 1839'),\n",
       " Row(value='uplherc.upl.com - - [01/Aug/1995:00:00:07 -0400] \"GET / HTTP/1.0\" 304 0'),\n",
       " Row(value='uplherc.upl.com - - [01/Aug/1995:00:00:08 -0400] \"GET /images/ksclogo-medium.gif HTTP/1.0\" 304 0'),\n",
       " Row(value='uplherc.upl.com - - [01/Aug/1995:00:00:08 -0400] \"GET /images/MOSAIC-logosmall.gif HTTP/1.0\" 304 0'),\n",
       " Row(value='uplherc.upl.com - - [01/Aug/1995:00:00:08 -0400] \"GET /images/USA-logosmall.gif HTTP/1.0\" 304 0'),\n",
       " Row(value='ix-esc-ca2-07.ix.netcom.com - - [01/Aug/1995:00:00:09 -0400] \"GET /images/launch-logo.gif HTTP/1.0\" 200 1713'),\n",
       " Row(value='uplherc.upl.com - - [01/Aug/1995:00:00:10 -0400] \"GET /images/WORLD-logosmall.gif HTTP/1.0\" 304 0'),\n",
       " Row(value='slppp6.intermind.net - - [01/Aug/1995:00:00:10 -0400] \"GET /history/skylab/skylab.html HTTP/1.0\" 200 1687'),\n",
       " Row(value='piweba4y.prodigy.com - - [01/Aug/1995:00:00:10 -0400] \"GET /images/launchmedium.gif HTTP/1.0\" 200 11853'),\n",
       " Row(value='slppp6.intermind.net - - [01/Aug/1995:00:00:11 -0400] \"GET /history/skylab/skylab-small.gif HTTP/1.0\" 200 9202')]"
      ]
     },
     "execution_count": 12,
     "metadata": {},
     "output_type": "execute_result"
    }
   ],
   "source": [
    "rdd.take(10)"
   ]
  },
  {
   "cell_type": "code",
   "execution_count": 13,
   "id": "541e601c-f899-416f-856e-dd80f8028b8d",
   "metadata": {},
   "outputs": [
    {
     "data": {
      "text/plain": [
       "['in24.inetnebr.com - - [01/Aug/1995:00:00:01 -0400] \"GET /shuttle/missions/sts-68/news/sts-68-mcc-05.txt HTTP/1.0\" 200 1839',\n",
       " 'uplherc.upl.com - - [01/Aug/1995:00:00:07 -0400] \"GET / HTTP/1.0\" 304 0',\n",
       " 'uplherc.upl.com - - [01/Aug/1995:00:00:08 -0400] \"GET /images/ksclogo-medium.gif HTTP/1.0\" 304 0',\n",
       " 'uplherc.upl.com - - [01/Aug/1995:00:00:08 -0400] \"GET /images/MOSAIC-logosmall.gif HTTP/1.0\" 304 0',\n",
       " 'uplherc.upl.com - - [01/Aug/1995:00:00:08 -0400] \"GET /images/USA-logosmall.gif HTTP/1.0\" 304 0',\n",
       " 'ix-esc-ca2-07.ix.netcom.com - - [01/Aug/1995:00:00:09 -0400] \"GET /images/launch-logo.gif HTTP/1.0\" 200 1713',\n",
       " 'uplherc.upl.com - - [01/Aug/1995:00:00:10 -0400] \"GET /images/WORLD-logosmall.gif HTTP/1.0\" 304 0',\n",
       " 'slppp6.intermind.net - - [01/Aug/1995:00:00:10 -0400] \"GET /history/skylab/skylab.html HTTP/1.0\" 200 1687',\n",
       " 'piweba4y.prodigy.com - - [01/Aug/1995:00:00:10 -0400] \"GET /images/launchmedium.gif HTTP/1.0\" 200 11853',\n",
       " 'slppp6.intermind.net - - [01/Aug/1995:00:00:11 -0400] \"GET /history/skylab/skylab-small.gif HTTP/1.0\" 200 9202']"
      ]
     },
     "execution_count": 13,
     "metadata": {},
     "output_type": "execute_result"
    }
   ],
   "source": [
    "sample_logs = [item[\"value\"] for item in df.take(10)]\n",
    "sample_logs"
   ]
  },
  {
   "cell_type": "markdown",
   "id": "4024feb7-85f4-4fa9-8f87-885057d0e1ea",
   "metadata": {},
   "source": [
    "#### Extracting Hostname"
   ]
  },
  {
   "cell_type": "code",
   "execution_count": 14,
   "id": "72239ae3-cb81-45ed-ad84-c555568629a6",
   "metadata": {},
   "outputs": [
    {
     "data": {
      "text/plain": [
       "['in24.inetnebr.com',\n",
       " 'uplherc.upl.com',\n",
       " 'uplherc.upl.com',\n",
       " 'uplherc.upl.com',\n",
       " 'uplherc.upl.com',\n",
       " 'ix-esc-ca2-07.ix.netcom.com',\n",
       " 'uplherc.upl.com',\n",
       " 'slppp6.intermind.net',\n",
       " 'piweba4y.prodigy.com',\n",
       " 'slppp6.intermind.net']"
      ]
     },
     "execution_count": 14,
     "metadata": {},
     "output_type": "execute_result"
    }
   ],
   "source": [
    "host_pattern = r'(^\\S+\\.[\\S+\\.]+\\S+)\\s'\n",
    "hosts = [re.search(host_pattern, item).group(1) if re.search(host_pattern, item) else\n",
    "         \"no host\" for item in sample_logs]\n",
    "hosts"
   ]
  },
  {
   "cell_type": "markdown",
   "id": "7cf070c0-99ba-4b69-92bf-b8e19a665c3e",
   "metadata": {},
   "source": [
    "#### Extracting Time stamp"
   ]
  },
  {
   "cell_type": "code",
   "execution_count": 15,
   "id": "61183727-b113-4494-a54d-2608ed7bca6b",
   "metadata": {},
   "outputs": [
    {
     "data": {
      "text/plain": [
       "['01/Aug/1995:00:00:01 -0400',\n",
       " '01/Aug/1995:00:00:07 -0400',\n",
       " '01/Aug/1995:00:00:08 -0400',\n",
       " '01/Aug/1995:00:00:08 -0400',\n",
       " '01/Aug/1995:00:00:08 -0400',\n",
       " '01/Aug/1995:00:00:09 -0400',\n",
       " '01/Aug/1995:00:00:10 -0400',\n",
       " '01/Aug/1995:00:00:10 -0400',\n",
       " '01/Aug/1995:00:00:10 -0400',\n",
       " '01/Aug/1995:00:00:11 -0400']"
      ]
     },
     "execution_count": 15,
     "metadata": {},
     "output_type": "execute_result"
    }
   ],
   "source": [
    "ts_pattern = r'\\[(\\d{2}/\\w{3}/\\d{4}:\\d{2}:\\d{2}:\\d{2} -\\d{4})]'\n",
    "timestamps = [re.search(ts_pattern, item).group(1) for item in sample_logs]\n",
    "timestamps"
   ]
  },
  {
   "cell_type": "markdown",
   "id": "f7302c14-a198-4132-aea0-99b1a77ce0f6",
   "metadata": {},
   "source": [
    "#### Extracting Protocol"
   ]
  },
  {
   "cell_type": "code",
   "execution_count": 16,
   "id": "c7dedeee-d601-486f-9bde-9542849ad108",
   "metadata": {},
   "outputs": [
    {
     "data": {
      "text/plain": [
       "[('GET', '/shuttle/missions/sts-68/news/sts-68-mcc-05.txt', 'HTTP/1.0'),\n",
       " ('GET', '/', 'HTTP/1.0'),\n",
       " ('GET', '/images/ksclogo-medium.gif', 'HTTP/1.0'),\n",
       " ('GET', '/images/MOSAIC-logosmall.gif', 'HTTP/1.0'),\n",
       " ('GET', '/images/USA-logosmall.gif', 'HTTP/1.0'),\n",
       " ('GET', '/images/launch-logo.gif', 'HTTP/1.0'),\n",
       " ('GET', '/images/WORLD-logosmall.gif', 'HTTP/1.0'),\n",
       " ('GET', '/history/skylab/skylab.html', 'HTTP/1.0'),\n",
       " ('GET', '/images/launchmedium.gif', 'HTTP/1.0'),\n",
       " ('GET', '/history/skylab/skylab-small.gif', 'HTTP/1.0')]"
      ]
     },
     "execution_count": 16,
     "metadata": {},
     "output_type": "execute_result"
    }
   ],
   "source": [
    "method_uri_protocol_pattern = r'\\\"(\\S+)\\s(\\S+)\\s*(\\S*)\\\"'\n",
    "method_uri_protocol = [re.search(method_uri_protocol_pattern, item).groups()\n",
    "                       if re.search(method_uri_protocol_pattern, item)\n",
    "                       else \"no uri\"\n",
    "                       for item in sample_logs]\n",
    "method_uri_protocol"
   ]
  },
  {
   "cell_type": "markdown",
   "id": "27bcb9d7-5d5a-4664-b7e3-a7fc5edf39b1",
   "metadata": {},
   "source": [
    "##### Extrating HTTP Status Code"
   ]
  },
  {
   "cell_type": "code",
   "execution_count": 17,
   "id": "1c11e4cf-aba5-4cc3-8e3c-ea2e822ea495",
   "metadata": {},
   "outputs": [
    {
     "data": {
      "text/plain": [
       "['200', '304', '304', '304', '304', '200', '304', '200', '200', '200']"
      ]
     },
     "execution_count": 17,
     "metadata": {},
     "output_type": "execute_result"
    }
   ],
   "source": [
    "status_pattern = r'\\s(\\d{3})\\s'\n",
    "status = [re.search(status_pattern, item).group(1) for item in sample_logs]\n",
    "status"
   ]
  },
  {
   "cell_type": "markdown",
   "id": "ac1f3253-79db-44cb-b4e5-44123a66ced2",
   "metadata": {},
   "source": [
    "#### Extracting Content Size"
   ]
  },
  {
   "cell_type": "code",
   "execution_count": 18,
   "id": "26e62608-dd6b-4067-a657-b103a9cff099",
   "metadata": {},
   "outputs": [
    {
     "data": {
      "text/plain": [
       "['1839', '0', '0', '0', '0', '1713', '0', '1687', '11853', '9202']"
      ]
     },
     "execution_count": 18,
     "metadata": {},
     "output_type": "execute_result"
    }
   ],
   "source": [
    "contentsize_pattern = r'\\s(\\d+)$'\n",
    "content_size = [re.search(contentsize_pattern, item).group(1) for item in sample_logs]\n",
    "content_size"
   ]
  },
  {
   "cell_type": "code",
   "execution_count": 19,
   "id": "44d12e57-f4f2-4cfc-924c-19eb0163d1c5",
   "metadata": {},
   "outputs": [
    {
     "name": "stdout",
     "output_type": "stream",
     "text": [
      "+--------------------+--------------------+------+--------------------+--------+------+------------+\n",
      "|                host|           TimeStamp|method|                 uri|protocol|status|content_size|\n",
      "+--------------------+--------------------+------+--------------------+--------+------+------------+\n",
      "|   in24.inetnebr.com|01/Aug/1995:00:00...|   GET|/shuttle/missions...|HTTP/1.0|   200|        1839|\n",
      "|     uplherc.upl.com|01/Aug/1995:00:00...|   GET|                   /|HTTP/1.0|   304|           0|\n",
      "|     uplherc.upl.com|01/Aug/1995:00:00...|   GET|/images/ksclogo-m...|HTTP/1.0|   304|           0|\n",
      "|     uplherc.upl.com|01/Aug/1995:00:00...|   GET|/images/MOSAIC-lo...|HTTP/1.0|   304|           0|\n",
      "|     uplherc.upl.com|01/Aug/1995:00:00...|   GET|/images/USA-logos...|HTTP/1.0|   304|           0|\n",
      "|ix-esc-ca2-07.ix....|01/Aug/1995:00:00...|   GET|/images/launch-lo...|HTTP/1.0|   200|        1713|\n",
      "|     uplherc.upl.com|01/Aug/1995:00:00...|   GET|/images/WORLD-log...|HTTP/1.0|   304|           0|\n",
      "|slppp6.intermind.net|01/Aug/1995:00:00...|   GET|/history/skylab/s...|HTTP/1.0|   200|        1687|\n",
      "|piweba4y.prodigy.com|01/Aug/1995:00:00...|   GET|/images/launchmed...|HTTP/1.0|   200|       11853|\n",
      "|slppp6.intermind.net|01/Aug/1995:00:00...|   GET|/history/skylab/s...|HTTP/1.0|   200|        9202|\n",
      "+--------------------+--------------------+------+--------------------+--------+------+------------+\n",
      "only showing top 10 rows\n",
      "\n"
     ]
    }
   ],
   "source": [
    "from pyspark.sql.functions import regexp_extract\n",
    "\n",
    "log_df = df.select(regexp_extract('value', host_pattern, 1).alias('host'),\n",
    "                   regexp_extract('value', ts_pattern, 1).alias('TimeStamp'),\n",
    "                   regexp_extract('value', method_uri_protocol_pattern, 1).alias(\"method\"),\n",
    "                   regexp_extract('value', method_uri_protocol_pattern, 2).alias(\"uri\"),\n",
    "                   regexp_extract('value', method_uri_protocol_pattern, 3).alias(\"protocol\"),\n",
    "                   regexp_extract('value', status_pattern, 1).alias('status'),\n",
    "                   regexp_extract('value', contentsize_pattern, 1).alias('content_size')\n",
    ")\n",
    "log_df.show(10, truncate=True)"
   ]
  },
  {
   "cell_type": "code",
   "execution_count": 20,
   "id": "d7b5bf84-0618-4a96-ab99-7e73ffe24b10",
   "metadata": {},
   "outputs": [
    {
     "data": {
      "text/plain": [
       "0"
      ]
     },
     "execution_count": 20,
     "metadata": {},
     "output_type": "execute_result"
    }
   ],
   "source": [
    "df.filter(df[\"value\"].isNull()).count()"
   ]
  },
  {
   "cell_type": "code",
   "execution_count": 21,
   "id": "4e9d7cd6-21f3-42d4-ba25-ec1a1b06da09",
   "metadata": {},
   "outputs": [
    {
     "name": "stderr",
     "output_type": "stream",
     "text": [
      "                                                                                \r"
     ]
    },
    {
     "data": {
      "text/plain": [
       "0"
      ]
     },
     "execution_count": 21,
     "metadata": {},
     "output_type": "execute_result"
    }
   ],
   "source": [
    "bad_rows_df = log_df.filter(log_df[\"host\"].isNull() |\n",
    "                            log_df[\"method\"].isNull() |\n",
    "                            log_df[\"TimeStamp\"].isNull() |\n",
    "                            log_df[\"uri\"].isNull() |\n",
    "                            log_df[\"status\"].isNull() |\n",
    "                            log_df[\"content_size\"].isNull()\n",
    "                       )\n",
    "bad_rows_df.count()"
   ]
  },
  {
   "cell_type": "code",
   "execution_count": 22,
   "id": "a8c389c7-a898-4499-aa69-554eda9a3da9",
   "metadata": {},
   "outputs": [
    {
     "name": "stdout",
     "output_type": "stream",
     "text": [
      "root\n",
      " |-- host: string (nullable = true)\n",
      " |-- TimeStamp: string (nullable = true)\n",
      " |-- method: string (nullable = true)\n",
      " |-- uri: string (nullable = true)\n",
      " |-- protocol: string (nullable = true)\n",
      " |-- status: string (nullable = true)\n",
      " |-- content_size: string (nullable = true)\n",
      "\n"
     ]
    }
   ],
   "source": [
    "log_df.printSchema()"
   ]
  },
  {
   "cell_type": "code",
   "execution_count": 23,
   "id": "7f8210b1-5907-4e23-92da-1b613844458b",
   "metadata": {},
   "outputs": [
    {
     "name": "stdout",
     "output_type": "stream",
     "text": [
      "+--------------------+--------------------+------+--------------------+--------+------+------------+\n",
      "|                host|           TimeStamp|method|                 uri|protocol|status|content_size|\n",
      "+--------------------+--------------------+------+--------------------+--------+------+------------+\n",
      "|   in24.inetnebr.com|01/Aug/1995:00:00...|   GET|/shuttle/missions...|HTTP/1.0|   200|        1839|\n",
      "|     uplherc.upl.com|01/Aug/1995:00:00...|   GET|                   /|HTTP/1.0|   304|           0|\n",
      "|     uplherc.upl.com|01/Aug/1995:00:00...|   GET|/images/ksclogo-m...|HTTP/1.0|   304|           0|\n",
      "|     uplherc.upl.com|01/Aug/1995:00:00...|   GET|/images/MOSAIC-lo...|HTTP/1.0|   304|           0|\n",
      "|     uplherc.upl.com|01/Aug/1995:00:00...|   GET|/images/USA-logos...|HTTP/1.0|   304|           0|\n",
      "|ix-esc-ca2-07.ix....|01/Aug/1995:00:00...|   GET|/images/launch-lo...|HTTP/1.0|   200|        1713|\n",
      "|     uplherc.upl.com|01/Aug/1995:00:00...|   GET|/images/WORLD-log...|HTTP/1.0|   304|           0|\n",
      "|slppp6.intermind.net|01/Aug/1995:00:00...|   GET|/history/skylab/s...|HTTP/1.0|   200|        1687|\n",
      "|piweba4y.prodigy.com|01/Aug/1995:00:00...|   GET|/images/launchmed...|HTTP/1.0|   200|       11853|\n",
      "|slppp6.intermind.net|01/Aug/1995:00:00...|   GET|/history/skylab/s...|HTTP/1.0|   200|        9202|\n",
      "+--------------------+--------------------+------+--------------------+--------+------+------------+\n",
      "only showing top 10 rows\n",
      "\n"
     ]
    }
   ],
   "source": [
    "log_df.show(10)"
   ]
  },
  {
   "cell_type": "code",
   "execution_count": 24,
   "id": "fda9fd11-3307-400c-8d6e-5e8ea08985db",
   "metadata": {},
   "outputs": [
    {
     "name": "stdout",
     "output_type": "stream",
     "text": [
      "+--------------------------+\n",
      "|TimeStamp                 |\n",
      "+--------------------------+\n",
      "|01/Aug/1995:00:00:01 -0400|\n",
      "|01/Aug/1995:00:00:07 -0400|\n",
      "|01/Aug/1995:00:00:08 -0400|\n",
      "|01/Aug/1995:00:00:08 -0400|\n",
      "|01/Aug/1995:00:00:08 -0400|\n",
      "+--------------------------+\n",
      "only showing top 5 rows\n",
      "\n"
     ]
    }
   ],
   "source": [
    "log_df.select(\"TimeStamp\").show(5, truncate=False)"
   ]
  },
  {
   "cell_type": "code",
   "execution_count": 25,
   "id": "b024fc31-0bcf-4774-80ed-82cb0d9c78dd",
   "metadata": {},
   "outputs": [
    {
     "data": {
      "text/plain": [
       "'1995-08-01 00:00:08'"
      ]
     },
     "execution_count": 25,
     "metadata": {},
     "output_type": "execute_result"
    }
   ],
   "source": [
    "from pyspark.sql.functions import udf\n",
    "month_map = {\n",
    "    \"Jan\" : 1, \"Feb\" : 2, \"March\" : 3, \"April\" : 4, \"May\" : 5, \"June\" : 6, \"July\" : 7, \"Aug\" : 8, \"Sep\" : 9,\n",
    "    \"Oct\" : 10, \"Nov\" : 11, \"Dec\" : 12\n",
    "}\n",
    "\n",
    "def parse_clf_time(text):\n",
    "    return f\"{int(text[7:11]):04d}-{int(month_map[text[3:6]]):02d}-{int(text[:2]):02d} {int(text[12:14]):02d}:{int(text[15:17]):02d}:{int(text[18:21]):02d}\"\n",
    "\n",
    "parse_clf_time(\"01/Aug/1995:00:00:08 -0400\")"
   ]
  },
  {
   "cell_type": "code",
   "execution_count": 26,
   "id": "baf11dd7-25cb-4828-bd1a-20caae34f8ba",
   "metadata": {},
   "outputs": [
    {
     "name": "stdout",
     "output_type": "stream",
     "text": [
      "+-----------------+------+--------------------+--------+------+------------+-------------------+\n",
      "|             host|method|                 uri|protocol|status|content_size|               time|\n",
      "+-----------------+------+--------------------+--------+------+------------+-------------------+\n",
      "|in24.inetnebr.com|   GET|/shuttle/missions...|HTTP/1.0|   200|        1839|1995-08-01 00:00:01|\n",
      "|  uplherc.upl.com|   GET|                   /|HTTP/1.0|   304|           0|1995-08-01 00:00:07|\n",
      "|  uplherc.upl.com|   GET|/images/ksclogo-m...|HTTP/1.0|   304|           0|1995-08-01 00:00:08|\n",
      "|  uplherc.upl.com|   GET|/images/MOSAIC-lo...|HTTP/1.0|   304|           0|1995-08-01 00:00:08|\n",
      "|  uplherc.upl.com|   GET|/images/USA-logos...|HTTP/1.0|   304|           0|1995-08-01 00:00:08|\n",
      "+-----------------+------+--------------------+--------+------+------------+-------------------+\n",
      "only showing top 5 rows\n",
      "\n"
     ]
    }
   ],
   "source": [
    "udf_parse_time = udf(parse_clf_time)\n",
    "\n",
    "log_df = log_df.select(\"*\", udf_parse_time(log_df[\"TimeStamp\"]).cast(\"timestamp\").alias(\"time\")).drop('timestamp')\n",
    "log_df.show(5)"
   ]
  },
  {
   "cell_type": "code",
   "execution_count": 27,
   "id": "4850cad5-56d5-4483-bf14-5d62be31c072",
   "metadata": {},
   "outputs": [
    {
     "name": "stdout",
     "output_type": "stream",
     "text": [
      "root\n",
      " |-- host: string (nullable = true)\n",
      " |-- method: string (nullable = true)\n",
      " |-- uri: string (nullable = true)\n",
      " |-- protocol: string (nullable = true)\n",
      " |-- status: string (nullable = true)\n",
      " |-- content_size: string (nullable = true)\n",
      " |-- time: timestamp (nullable = true)\n",
      "\n"
     ]
    }
   ],
   "source": [
    "log_df.printSchema()"
   ]
  },
  {
   "cell_type": "code",
   "execution_count": 28,
   "id": "45bf02f9-ee98-4dca-8c1f-b6b98e75f7e7",
   "metadata": {},
   "outputs": [
    {
     "data": {
      "text/plain": [
       "DataFrame[host: string, method: string, uri: string, protocol: string, status: string, content_size: string, time: timestamp]"
      ]
     },
     "execution_count": 28,
     "metadata": {},
     "output_type": "execute_result"
    }
   ],
   "source": [
    "log_df.cache()"
   ]
  },
  {
   "cell_type": "code",
   "execution_count": 29,
   "id": "363c7424-710c-4e58-b893-c41aa39e3695",
   "metadata": {},
   "outputs": [
    {
     "name": "stderr",
     "output_type": "stream",
     "text": [
      "[Stage 16:==============>                                           (2 + 6) / 8]\r"
     ]
    },
    {
     "name": "stdout",
     "output_type": "stream",
     "text": [
      "+-------+-----------------+\n",
      "|summary|     content_size|\n",
      "+-------+-----------------+\n",
      "|  count|          1569898|\n",
      "|   mean| 17244.9678759674|\n",
      "| stddev|68244.03865948365|\n",
      "|    min|                 |\n",
      "|    max|            99981|\n",
      "+-------+-----------------+\n",
      "\n"
     ]
    },
    {
     "name": "stderr",
     "output_type": "stream",
     "text": [
      "                                                                                \r"
     ]
    }
   ],
   "source": [
    "log_df.describe([\"content_size\"]).show()"
   ]
  },
  {
   "cell_type": "code",
   "execution_count": 35,
   "id": "e798d97a-067a-4a74-bd29-5686cc06f0d9",
   "metadata": {},
   "outputs": [
    {
     "name": "stdout",
     "output_type": "stream",
     "text": [
      "+----------------+----------------+-----------------+-----------------+------------------+\n",
      "|min_content_size|max_content_size|mean_content_size| std_content_size|count_content_size|\n",
      "+----------------+----------------+-----------------+-----------------+------------------+\n",
      "|                |           99981| 17244.9678759674|68244.03865948365|           1569898|\n",
      "+----------------+----------------+-----------------+-----------------+------------------+\n",
      "\n"
     ]
    }
   ],
   "source": [
    "from pyspark.sql import functions as f\n",
    "log_df.select(\n",
    "    f.min(log_df[\"content_size\"]).alias(\"min_content_size\"),\n",
    "    f.max(log_df[\"content_size\"]).alias(\"max_content_size\"),\n",
    "    f.mean(log_df[\"content_size\"]).alias(\"mean_content_size\"),\n",
    "    f.stddev(log_df[\"content_size\"]).alias(\"std_content_size\"),\n",
    "    f.count(log_df[\"content_size\"]).alias(\"count_content_size\")\n",
    ").show()"
   ]
  },
  {
   "cell_type": "code",
   "execution_count": 38,
   "id": "0585be19-6945-4228-b016-c81505447560",
   "metadata": {},
   "outputs": [],
   "source": [
    "status_frequency = log_df.groupby(\"status\").count()"
   ]
  },
  {
   "cell_type": "code",
   "execution_count": 41,
   "id": "303f0e8a-73fb-4b48-818d-becf3295b340",
   "metadata": {},
   "outputs": [
    {
     "data": {
      "text/plain": [
       "8"
      ]
     },
     "execution_count": 41,
     "metadata": {},
     "output_type": "execute_result"
    }
   ],
   "source": [
    "status_frequency.count()"
   ]
  },
  {
   "cell_type": "code",
   "execution_count": 46,
   "id": "29560bad-031c-4b4c-b23d-37bc3ac233a7",
   "metadata": {},
   "outputs": [],
   "source": [
    "status_frequency = status_frequency.toPandas().sort_values(by=\"count\", ascending=False)"
   ]
  },
  {
   "cell_type": "code",
   "execution_count": 52,
   "id": "0a90309a-5c30-4fba-b93c-23943b9b01dd",
   "metadata": {},
   "outputs": [
    {
     "data": {
      "text/plain": [
       "0    200\n",
       "4    304\n",
       "1    302\n",
       "2    404\n",
       "3    403\n",
       "6    501\n",
       "7    400\n",
       "5    500\n",
       "Name: status, dtype: object"
      ]
     },
     "execution_count": 52,
     "metadata": {},
     "output_type": "execute_result"
    }
   ],
   "source": [
    "status_frequency[\"status\"]"
   ]
  },
  {
   "cell_type": "code",
   "execution_count": 56,
   "id": "9c362735-8454-4188-ae89-3ac72f28f194",
   "metadata": {},
   "outputs": [
    {
     "data": {
      "image/png": "[encoded data removed]",
      "text/plain": [
       "<Figure size 500x500 with 1 Axes>"
      ]
     },
     "metadata": {},
     "output_type": "display_data"
    }
   ],
   "source": [
    "import seaborn as sns\n",
    "import matplotlib.pyplot as plt\n",
    "sns.catplot(data=status_frequency, x=\"status\", y=\"count\", kind=\"bar\",\n",
    "           order=status_frequency[\"status\"])\n",
    "plt.show()"
   ]
  },
  {
   "cell_type": "code",
   "execution_count": 59,
   "id": "5cc8566b-7f19-4db3-a3fe-b4e0b6e4084a",
   "metadata": {},
   "outputs": [],
   "source": [
    "import numpy as np\n",
    "status_frequency[\"log(count\"] = np.log(status_frequency[\"count\"])"
   ]
  },
  {
   "cell_type": "code",
   "execution_count": 61,
   "id": "2485b1b5-60e5-4781-9074-fc3cd297de35",
   "metadata": {},
   "outputs": [
    {
     "data": {
      "image/png": "[encoded data removed]",
      "text/plain": [
       "<Figure size 500x500 with 1 Axes>"
      ]
     },
     "metadata": {},
     "output_type": "display_data"
    }
   ],
   "source": [
    "sns.catplot(data=status_frequency, x=\"status\", y=\"log(count\", kind=\"bar\",\n",
    "           order=status_frequency[\"status\"])\n",
    "plt.show()"
   ]
  },
  {
   "cell_type": "code",
   "execution_count": 65,
   "id": "53d805ed-3987-4420-82aa-9b7a30df0f05",
   "metadata": {},
   "outputs": [
    {
     "name": "stdout",
     "output_type": "stream",
     "text": [
      "+--------------------+-----+\n",
      "|                host|count|\n",
      "+--------------------+-----+\n",
      "|  edams.ksc.nasa.gov| 6530|\n",
      "|piweba4y.prodigy.com| 4846|\n",
      "|        163.206.89.4| 4791|\n",
      "|piweba5y.prodigy.com| 4607|\n",
      "|piweba3y.prodigy.com| 4416|\n",
      "|www-d1.proxy.aol.com| 3889|\n",
      "|www-b2.proxy.aol.com| 3534|\n",
      "|www-b3.proxy.aol.com| 3463|\n",
      "|www-c5.proxy.aol.com| 3423|\n",
      "|www-b5.proxy.aol.com| 3411|\n",
      "|www-c2.proxy.aol.com| 3407|\n",
      "|www-d2.proxy.aol.com| 3404|\n",
      "|www-a2.proxy.aol.com| 3337|\n",
      "|         news.ti.com| 3298|\n",
      "|www-d3.proxy.aol.com| 3296|\n",
      "|www-b4.proxy.aol.com| 3293|\n",
      "|www-c3.proxy.aol.com| 3272|\n",
      "|www-d4.proxy.aol.com| 3234|\n",
      "|www-c1.proxy.aol.com| 3177|\n",
      "|www-c4.proxy.aol.com| 3134|\n",
      "+--------------------+-----+\n",
      "\n"
     ]
    }
   ],
   "source": [
    "\"\"\"Top 20 hosts\"\"\"\n",
    "log_df.groupby(\"host\").count().sort('count', ascending=False).limit(20).show()"
   ]
  },
  {
   "cell_type": "code",
   "execution_count": 69,
   "id": "24da6f65-fec9-44ee-832c-b86cbd4d42de",
   "metadata": {},
   "outputs": [
    {
     "name": "stdout",
     "output_type": "stream",
     "text": [
      "+---------------+-------+\n",
      "|         method|  count|\n",
      "+---------------+-------+\n",
      "|           POST|    111|\n",
      "|           HEAD|   3965|\n",
      "|            GET|1564929|\n",
      "|               |    891|\n",
      "|�|\u0005\u0011t\u0003�9ð'À|\u0005\u0011u|      2|\n",
      "+---------------+-------+\n",
      "\n"
     ]
    }
   ],
   "source": [
    "\"\"\"Method Count\"\"\"\n",
    "log_df.groupby(\"method\").count().show()"
   ]
  },
  {
   "cell_type": "code",
   "execution_count": 74,
   "id": "17f905fc-00a6-4ebe-a9df-e6bea12dde67",
   "metadata": {},
   "outputs": [
    {
     "name": "stdout",
     "output_type": "stream",
     "text": [
      "+--------------------+-----+\n",
      "|                 uri|count|\n",
      "+--------------------+-----+\n",
      "|/images/NASA-logo...|97384|\n",
      "|/images/KSC-logos...|75332|\n",
      "|/images/MOSAIC-lo...|67441|\n",
      "|/images/USA-logos...|67061|\n",
      "|/images/WORLD-log...|66437|\n",
      "|/images/ksclogo-m...|62771|\n",
      "|           /ksc.html|43683|\n",
      "|/history/apollo/i...|37824|\n",
      "|/images/launch-lo...|35135|\n",
      "|                   /|30328|\n",
      "|/images/ksclogosm...|27808|\n",
      "|/shuttle/missions...|24606|\n",
      "| /shuttle/countdown/|24458|\n",
      "|/shuttle/missions...|24381|\n",
      "|/shuttle/missions...|23404|\n",
      "|/shuttle/missions...|22451|\n",
      "|/images/launchmed...|19875|\n",
      "|  /htbin/cdt_main.pl|17245|\n",
      "|/shuttle/countdow...|12158|\n",
      "|     /icons/menu.xbm|12137|\n",
      "+--------------------+-----+\n",
      "\n"
     ]
    }
   ],
   "source": [
    "\"\"\"Top 20 End Point\"\"\"\n",
    "log_df.groupby(\"uri\").count().sort(\"count\", ascending=False).limit(20).show()"
   ]
  },
  {
   "cell_type": "code",
   "execution_count": 78,
   "id": "5cbe359e-5e62-40d3-870f-333db8ddefe5",
   "metadata": {},
   "outputs": [
    {
     "name": "stdout",
     "output_type": "stream",
     "text": [
      "+--------------------+-----+\n",
      "|                 uri|count|\n",
      "+--------------------+-----+\n",
      "|/images/NASA-logo...|19072|\n",
      "|/images/KSC-logos...|11328|\n",
      "|/images/MOSAIC-lo...| 8617|\n",
      "|/images/USA-logos...| 8565|\n",
      "|/images/WORLD-log...| 8360|\n",
      "|/images/ksclogo-m...| 7722|\n",
      "|/history/apollo/i...| 4355|\n",
      "|/shuttle/countdow...| 4227|\n",
      "|/images/launch-lo...| 4178|\n",
      "|                   /| 3605|\n",
      "|/images/ksclogosm...| 2578|\n",
      "|/shuttle/missions...| 2442|\n",
      "|           /ksc.html| 2291|\n",
      "| /shuttle/countdown/| 2214|\n",
      "|/shuttle/missions...| 2180|\n",
      "|/shuttle/missions...| 1736|\n",
      "|/images/launchmed...| 1538|\n",
      "|    /icons/blank.xbm| 1475|\n",
      "|     /icons/menu.xbm| 1411|\n",
      "|/shuttle/missions...| 1358|\n",
      "+--------------------+-----+\n",
      "\n"
     ]
    }
   ],
   "source": [
    "not200_df = log_df.filter(log_df[\"status\"] != 200)\n",
    "not200_df.groupby(\"uri\").count().sort(\"count\", ascending=False).limit(20).show()"
   ]
  },
  {
   "cell_type": "code",
   "execution_count": 82,
   "id": "8da6fda1-e40b-4ee5-aa22-cd8406eb7f67",
   "metadata": {},
   "outputs": [
    {
     "data": {
      "text/plain": [
       "75029"
      ]
     },
     "execution_count": 82,
     "metadata": {},
     "output_type": "execute_result"
    }
   ],
   "source": [
    "log_df.select(\"host\").distinct().count()"
   ]
  },
  {
   "cell_type": "code",
   "execution_count": 86,
   "id": "b9fe1afc-6a98-4f1f-bbbc-cdac48a0b030",
   "metadata": {},
   "outputs": [
    {
     "name": "stdout",
     "output_type": "stream",
     "text": [
      "+-----------------+---+\n",
      "|             host|day|\n",
      "+-----------------+---+\n",
      "|in24.inetnebr.com|  1|\n",
      "|  uplherc.upl.com|  1|\n",
      "|  uplherc.upl.com|  1|\n",
      "|  uplherc.upl.com|  1|\n",
      "|  uplherc.upl.com|  1|\n",
      "+-----------------+---+\n",
      "only showing top 5 rows\n",
      "\n"
     ]
    }
   ],
   "source": [
    "host_day_df = log_df.select(f.col('host'), f.dayofmonth(f.col('time')).alias('day'))\n",
    "host_day_df.show(5)"
   ]
  },
  {
   "cell_type": "code",
   "execution_count": 88,
   "id": "54e5697a-fbaf-4498-a794-12fb72b21f39",
   "metadata": {},
   "outputs": [],
   "source": [
    "day_count = host_day_df.groupby(\"day\").count().toPandas()"
   ]
  },
  {
   "cell_type": "code",
   "execution_count": 93,
   "id": "dfcfaf76-d121-41d9-b130-e28fad94de80",
   "metadata": {},
   "outputs": [
    {
     "data": {
      "image/png": "[encoded data removed]",
      "text/plain": [
       "<Figure size 1000x400 with 1 Axes>"
      ]
     },
     "metadata": {},
     "output_type": "display_data"
    }
   ],
   "source": [
    "plt.figure(figsize=(10,4))\n",
    "sns.pointplot(data=day_count, x=\"day\", y=\"count\" )\n",
    "plt.show()"
   ]
  },
  {
   "cell_type": "code",
   "execution_count": 94,
   "id": "376e26bb-4368-4b9c-9a70-1d0856e0efbc",
   "metadata": {},
   "outputs": [],
   "source": [
    "log_df.createOrReplaceTempView(\"NasaLogData\")"
   ]
  },
  {
   "cell_type": "code",
   "execution_count": 115,
   "id": "4fb60fe6-3b9a-45b9-ab5d-f7fa39c88ba0",
   "metadata": {},
   "outputs": [],
   "source": [
    "day_host_request = spark.sql(\"\"\"WITH CTE AS(\n",
    "           SELECT \n",
    "               DAY(time) AS day, \n",
    "               COUNT(1) AS Number_of_request, \n",
    "               COUNT(Distinct(host)) AS Number_of_host\n",
    "           FROM NasaLogData\n",
    "           GROUP BY DAY(time)\n",
    "           )\n",
    "           SELECT \n",
    "               * , \n",
    "               round(Number_of_request/Number_of_host, 3) AS Avg_request_per_host\n",
    "               FROM CTE\n",
    "           \"\"\").toPandas()"
   ]
  },
  {
   "cell_type": "code",
   "execution_count": 118,
   "id": "8c587f72-3b4b-431d-8f44-949537bb33b5",
   "metadata": {},
   "outputs": [
    {
     "data": {
      "image/png": "[encoded data removed]",
      "text/plain": [
       "<Figure size 1000x400 with 1 Axes>"
      ]
     },
     "metadata": {},
     "output_type": "display_data"
    }
   ],
   "source": [
    "plt.figure(figsize=(10,4))\n",
    "sns.pointplot(data=day_host_request, x=\"day\", y=\"Avg_request_per_host\" , color=\"b\")\n",
    "plt.show()"
   ]
  },
  {
   "cell_type": "code",
   "execution_count": 120,
   "id": "a66fe408-2528-4cb2-82f4-46e641c4ca06",
   "metadata": {},
   "outputs": [
    {
     "name": "stdout",
     "output_type": "stream",
     "text": [
      "+--------------------+------+--------------------+--------+------+------------+-------------------+\n",
      "|                host|method|                 uri|protocol|status|content_size|               time|\n",
      "+--------------------+------+--------------------+--------+------+------------+-------------------+\n",
      "|   in24.inetnebr.com|   GET|/shuttle/missions...|HTTP/1.0|   200|        1839|1995-08-01 00:00:01|\n",
      "|     uplherc.upl.com|   GET|                   /|HTTP/1.0|   304|           0|1995-08-01 00:00:07|\n",
      "|     uplherc.upl.com|   GET|/images/ksclogo-m...|HTTP/1.0|   304|           0|1995-08-01 00:00:08|\n",
      "|     uplherc.upl.com|   GET|/images/MOSAIC-lo...|HTTP/1.0|   304|           0|1995-08-01 00:00:08|\n",
      "|     uplherc.upl.com|   GET|/images/USA-logos...|HTTP/1.0|   304|           0|1995-08-01 00:00:08|\n",
      "|ix-esc-ca2-07.ix....|   GET|/images/launch-lo...|HTTP/1.0|   200|        1713|1995-08-01 00:00:09|\n",
      "|     uplherc.upl.com|   GET|/images/WORLD-log...|HTTP/1.0|   304|           0|1995-08-01 00:00:10|\n",
      "|slppp6.intermind.net|   GET|/history/skylab/s...|HTTP/1.0|   200|        1687|1995-08-01 00:00:10|\n",
      "|piweba4y.prodigy.com|   GET|/images/launchmed...|HTTP/1.0|   200|       11853|1995-08-01 00:00:10|\n",
      "|slppp6.intermind.net|   GET|/history/skylab/s...|HTTP/1.0|   200|        9202|1995-08-01 00:00:11|\n",
      "|slppp6.intermind.net|   GET|/images/ksclogosm...|HTTP/1.0|   200|        3635|1995-08-01 00:00:12|\n",
      "|ix-esc-ca2-07.ix....|   GET|/history/apollo/i...|HTTP/1.0|   200|        1173|1995-08-01 00:00:12|\n",
      "|slppp6.intermind.net|   GET|/history/apollo/i...|HTTP/1.0|   200|        3047|1995-08-01 00:00:13|\n",
      "|     uplherc.upl.com|   GET|/images/NASA-logo...|HTTP/1.0|   304|           0|1995-08-01 00:00:14|\n",
      "|        133.43.96.45|   GET|/shuttle/missions...|HTTP/1.0|   200|       10566|1995-08-01 00:00:16|\n",
      "|kgtyk4.kj.yamagat...|   GET|                   /|HTTP/1.0|   200|        7280|1995-08-01 00:00:17|\n",
      "|kgtyk4.kj.yamagat...|   GET|/images/ksclogo-m...|HTTP/1.0|   200|        5866|1995-08-01 00:00:18|\n",
      "|     d0ucr6.fnal.gov|   GET|/history/apollo/a...|HTTP/1.0|   200|        2743|1995-08-01 00:00:19|\n",
      "|ix-esc-ca2-07.ix....|   GET|/shuttle/resource...|HTTP/1.0|   200|        6849|1995-08-01 00:00:19|\n",
      "|     d0ucr6.fnal.gov|   GET|/history/apollo/a...|HTTP/1.0|   200|       14897|1995-08-01 00:00:20|\n",
      "+--------------------+------+--------------------+--------+------+------------+-------------------+\n",
      "only showing top 20 rows\n",
      "\n"
     ]
    }
   ],
   "source": [
    "log_df.show()"
   ]
  },
  {
   "cell_type": "code",
   "execution_count": 121,
   "id": "1702367c-3094-4dea-aa16-800189c0e18e",
   "metadata": {},
   "outputs": [],
   "source": [
    "spark.stop()"
   ]
  }
 ],
 "metadata": {
  "kernelspec": {
   "display_name": "Python 3 (ipykernel)",
   "language": "python",
   "name": "python3"
  },
  "language_info": {
   "codemirror_mode": {
    "name": "ipython",
    "version": 3
   },
   "file_extension": ".py",
   "mimetype": "text/x-python",
   "name": "python",
   "nbconvert_exporter": "python",
   "pygments_lexer": "ipython3",
   "version": "3.11.5"
  }
 },
 "nbformat": 4,
 "nbformat_minor": 5
}
