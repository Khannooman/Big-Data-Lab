{
 "cells": [
  {
   "cell_type": "markdown",
   "id": "6f89e39d-0a13-45e9-9ccb-ba977392192f",
   "metadata": {},
   "source": [
    "### In this notebook we are going to build kmenas clustring using pyspark."
   ]
  },
  {
   "cell_type": "code",
   "execution_count": 1,
   "id": "dedd768a-1eaf-4f86-9d59-e0d296859f06",
   "metadata": {},
   "outputs": [
    {
     "name": "stderr",
     "output_type": "stream",
     "text": [
      "24/10/06 09:04:57 WARN Utils: Your hostname, nooman resolves to a loopback address: 127.0.1.1; using 192.168.0.102 instead (on interface enp4s0)\n",
      "24/10/06 09:04:57 WARN Utils: Set SPARK_LOCAL_IP if you need to bind to another address\n",
      "Setting default log level to \"WARN\".\n",
      "To adjust logging level use sc.setLogLevel(newLevel). For SparkR, use setLogLevel(newLevel).\n",
      "24/10/06 09:05:04 WARN NativeCodeLoader: Unable to load native-hadoop library for your platform... using builtin-java classes where applicable\n"
     ]
    },
    {
     "data": {
      "text/html": [
       "\n",
       "            <div>\n",
       "                <p><b>SparkSession - in-memory</b></p>\n",
       "                \n",
       "        <div>\n",
       "            <p><b>SparkContext</b></p>\n",
       "\n",
       "            <p><a href=\"http://192.168.0.102:4040\">Spark UI</a></p>\n",
       "\n",
       "            <dl>\n",
       "              <dt>Version</dt>\n",
       "                <dd><code>v3.5.1</code></dd>\n",
       "              <dt>Master</dt>\n",
       "                <dd><code>local[*]</code></dd>\n",
       "              <dt>AppName</dt>\n",
       "                <dd><code>Kmeans</code></dd>\n",
       "            </dl>\n",
       "        </div>\n",
       "        \n",
       "            </div>\n",
       "        "
      ],
      "text/plain": [
       "<pyspark.sql.session.SparkSession at 0x733ed57dc9d0>"
      ]
     },
     "execution_count": 1,
     "metadata": {},
     "output_type": "execute_result"
    }
   ],
   "source": [
    "#### Creating Spark Session\n",
    "import pyspark\n",
    "from pyspark.sql import SparkSession\n",
    "\n",
    "spark = (\n",
    "    SparkSession.builder\n",
    "    .appName('Kmeans')\n",
    "    .master('local[*]')\n",
    "    .config('spark.driver.memory', '1g')\n",
    "    .config('spark.executor.memory', '2g')\n",
    "    .getOrCreate()\n",
    ")"
   ]
  },
  {
   "cell_type": "code",
   "execution_count": 5,
   "id": "9a699329-a46e-4405-bb17-ed9fbc934121",
   "metadata": {},
   "outputs": [],
   "source": [
    "### load the data\n",
    "#### https://www.kaggle.com/datasets/abdulszz/spotify-most-streamed-songs?select=Spotify+Most+Streamed+Songs.csv\n",
    "df = spark.read.csv('/spotfy.csv', header=True, inferSchema=True)"
   ]
  },
  {
   "cell_type": "code",
   "execution_count": 12,
   "id": "fa476ac2-9ab2-4a30-a98c-7bf5ef7b16c7",
   "metadata": {},
   "outputs": [
    {
     "name": "stdout",
     "output_type": "stream",
     "text": [
      "+--------------------+----------------+------------+-------------+--------------+------------+--------------------+-----------------+\n",
      "|          track_name|  artist(s)_name|artist_count|released_year|released_month|released_day|in_spotify_playlists|in_spotify_charts|\n",
      "+--------------------+----------------+------------+-------------+--------------+------------+--------------------+-----------------+\n",
      "|Seven (feat. Latt...|Latto, Jung Kook|           2|         2023|             7|          14|                 553|              147|\n",
      "|                LALA|     Myke Towers|           1|         2023|             3|          23|                1474|               48|\n",
      "|             vampire|  Olivia Rodrigo|           1|         2023|             6|          30|                1397|              113|\n",
      "|        Cruel Summer|    Taylor Swift|           1|         2019|             8|          23|                7858|              100|\n",
      "|      WHERE SHE GOES|       Bad Bunny|           1|         2023|             5|          18|                3133|               50|\n",
      "+--------------------+----------------+------------+-------------+--------------+------------+--------------------+-----------------+\n",
      "only showing top 5 rows\n",
      "\n"
     ]
    }
   ],
   "source": [
    "df.select('track_name', 'artist(s)_name', 'artist_count', 'released_year', 'released_month', 'released_day'\n",
    "         , 'in_spotify_playlists', 'in_spotify_charts').show(5)"
   ]
  },
  {
   "cell_type": "code",
   "execution_count": 15,
   "id": "109a8f0e-61c5-481a-9b94-34ed6b6b4488",
   "metadata": {},
   "outputs": [
    {
     "name": "stdout",
     "output_type": "stream",
     "text": [
      "+----------+------------------+---------------+-------------------+----------------+----------------+---+-----+\n",
      "|   streams|in_apple_playlists|in_apple_charts|in_deezer_playlists|in_deezer_charts|in_shazam_charts|bpm| mode|\n",
      "+----------+------------------+---------------+-------------------+----------------+----------------+---+-----+\n",
      "| 141381703|                43|            263|                 45|              10|             826|125|Major|\n",
      "| 133716286|                48|            126|                 58|              14|             382| 92|Major|\n",
      "| 140003974|                94|            207|                 91|              14|             949|138|Major|\n",
      "| 800840817|               116|            207|                125|              12|             548|170|Major|\n",
      "| 303236322|                84|            133|                 87|              15|             425|144|Minor|\n",
      "| 183706234|                67|            213|                 88|              17|             946|141|Major|\n",
      "| 725980112|                34|            222|                 43|              13|             418|148|Minor|\n",
      "|  58149378|                25|             89|                 30|              13|             194|100|Major|\n",
      "|  95217315|                60|            210|                 48|              11|             953|130|Minor|\n",
      "| 553634067|                49|            110|                 66|              13|             339|170|Minor|\n",
      "| 505671438|                41|            205|                 54|              12|             251| 83|Minor|\n",
      "|  58255150|                37|            202|                 21|               5|             168|150|Minor|\n",
      "|1316855716|               300|            215|                745|              58|           1,021|118|Major|\n",
      "| 387570742|                80|            156|                182|              24|           1,281|130|Minor|\n",
      "|2513188493|               403|            198|                863|              46|            NULL|174|Minor|\n",
      "|1163093654|               183|            162|                161|              12|             187| 89|Major|\n",
      "| 496795686|                91|            212|                 78|               6|               0|120|Minor|\n",
      "|  30546883|                80|            227|                 95|              24|           1,173| 78|Major|\n",
      "| 335222234|                43|            100|                 54|              14|             187|100|Major|\n",
      "| 363369738|                 8|            104|                 23|               2|              29|120|Major|\n",
      "+----------+------------------+---------------+-------------------+----------------+----------------+---+-----+\n",
      "only showing top 20 rows\n",
      "\n"
     ]
    }
   ],
   "source": [
    "df.select('streams', 'in_apple_playlists', 'in_apple_charts', 'in_deezer_playlists', 'in_deezer_charts', 'in_shazam_charts',\n",
    "          'bpm', 'mode').show()"
   ]
  },
  {
   "cell_type": "code",
   "execution_count": 19,
   "id": "eee863c6-3c51-4e52-a3a3-63caa1c332e5",
   "metadata": {},
   "outputs": [
    {
     "name": "stdout",
     "output_type": "stream",
     "text": [
      "+--------------+---------+--------+--------------+------------------+----------+-------------+--------------------+\n",
      "|danceability_%|valence_%|energy_%|acousticness_%|instrumentalness_%|liveness_%|speechiness_%|           cover_url|\n",
      "+--------------+---------+--------+--------------+------------------+----------+-------------+--------------------+\n",
      "|            80|       89|      83|            31|                 0|         8|            4|           Not Found|\n",
      "|            71|       61|      74|             7|                 0|        10|            4|https://i.scdn.co...|\n",
      "|            51|       32|      53|            17|                 0|        31|            6|https://i.scdn.co...|\n",
      "|            55|       58|      72|            11|                 0|        11|           15|https://i.scdn.co...|\n",
      "|            65|       23|      80|            14|                63|        11|            6|https://i.scdn.co...|\n",
      "+--------------+---------+--------+--------------+------------------+----------+-------------+--------------------+\n",
      "only showing top 5 rows\n",
      "\n"
     ]
    }
   ],
   "source": [
    "df.select('danceability_%', 'valence_%', 'energy_%', 'acousticness_%', 'instrumentalness_%', 'liveness_%','speechiness_%',\n",
    "          'cover_url').show(5)"
   ]
  },
  {
   "cell_type": "code",
   "execution_count": 78,
   "id": "74eef6d6-434c-466e-87a2-d4c0f3523ce6",
   "metadata": {},
   "outputs": [],
   "source": [
    "select_df = df.select('released_year', 'bpm', 'danceability_%', 'valence_%', 'energy_%', 'acousticness_%', 'instrumentalness_%', 'liveness_%','speechiness_%')"
   ]
  },
  {
   "cell_type": "code",
   "execution_count": 79,
   "id": "5376ee88-bb6c-4784-b388-5c7582c1ec5c",
   "metadata": {},
   "outputs": [
    {
     "name": "stdout",
     "output_type": "stream",
     "text": [
      "+------------------+\n",
      "|min(released_year)|\n",
      "+------------------+\n",
      "|              1930|\n",
      "+------------------+\n",
      "\n"
     ]
    }
   ],
   "source": [
    "from pyspark.sql.functions import min, col\n",
    "select_df.select(min(col('released_year'))).show()"
   ]
  },
  {
   "cell_type": "code",
   "execution_count": 80,
   "id": "a45dd1ca-bc98-46c8-aba5-f48331144988",
   "metadata": {},
   "outputs": [],
   "source": [
    "select_df = select_df.withColumn('released_year', col('released_year') - 1930)"
   ]
  },
  {
   "cell_type": "code",
   "execution_count": 81,
   "id": "222ac3ff-8263-47a2-b0d6-00188e5b1c75",
   "metadata": {},
   "outputs": [
    {
     "data": {
      "text/plain": [
       "StructType([StructField('released_year', IntegerType(), True), StructField('bpm', IntegerType(), True), StructField('danceability_%', IntegerType(), True), StructField('valence_%', IntegerType(), True), StructField('energy_%', IntegerType(), True), StructField('acousticness_%', IntegerType(), True), StructField('instrumentalness_%', IntegerType(), True), StructField('liveness_%', IntegerType(), True), StructField('speechiness_%', IntegerType(), True)])"
      ]
     },
     "execution_count": 81,
     "metadata": {},
     "output_type": "execute_result"
    }
   ],
   "source": [
    "select_df.schema"
   ]
  },
  {
   "cell_type": "code",
   "execution_count": 82,
   "id": "12cf1adb-f47e-46b8-af5d-c1d402a80fa0",
   "metadata": {},
   "outputs": [],
   "source": [
    "# scaling\n",
    "from pyspark.ml.feature import StandardScaler, VectorAssembler\n",
    "assembler = VectorAssembler(inputCols=select_df.columns, outputCol=\"features\")\n",
    "vector_df = assembler.transform(select_df)\n",
    "\n",
    "\n",
    "scaler = StandardScaler(inputCol=\"features\", outputCol=\"scaled_feature\", withMean=True, withStd=True)\n",
    "scaler_model = scaler.fit(vector_df)\n",
    "scaled_df = scaler_model.transform(vector_df)"
   ]
  },
  {
   "cell_type": "code",
   "execution_count": 83,
   "id": "e91d05d8-172e-4d0a-9434-104eb7b6a206",
   "metadata": {},
   "outputs": [],
   "source": [
    "# model building\n",
    "from pyspark.ml.clustering import KMeans\n",
    "\n",
    "kmeans = KMeans(k=4, seed=1, featuresCol=\"scaled_feature\", predictionCol=\"prediction\")\n",
    "\n",
    "kmeans_model = kmeans.fit(scaled_df)\n",
    "\n",
    "cluster_df = kmeans_model.transform(scaled_df)"
   ]
  },
  {
   "cell_type": "code",
   "execution_count": 86,
   "id": "dc0b75e1-e01d-4086-8761-70b16c3ee49d",
   "metadata": {},
   "outputs": [
    {
     "data": {
      "text/plain": [
       "[array([ 0.22188327,  0.1847769 ,  0.38052706, -0.0460923 , -0.08174629,\n",
       "        -0.02777888, -0.17925476, -0.10168455,  2.01720758]),\n",
       " array([-0.3749167 ,  0.04181704, -0.8969617 , -0.72752395, -1.01870064,\n",
       "         0.95515389, -0.04248089, -0.112376  , -0.45567518]),\n",
       " array([ 0.11169791, -0.06913108,  0.30614911,  0.35915555,  0.48254957,\n",
       "        -0.41873823, -0.13903235,  0.08665072, -0.3345288 ]),\n",
       " array([-0.21722008,  0.00799447, -0.45224558, -0.81752381, -0.34029491,\n",
       "         0.15164932,  6.63873612, -0.29868702, -0.47608731])]"
      ]
     },
     "execution_count": 86,
     "metadata": {},
     "output_type": "execute_result"
    }
   ],
   "source": [
    "kmeans_model.clusterCenters()"
   ]
  },
  {
   "cell_type": "code",
   "execution_count": 93,
   "id": "1f1b7424-b629-43e4-8976-2a7aebd0c48e",
   "metadata": {},
   "outputs": [
    {
     "name": "stdout",
     "output_type": "stream",
     "text": [
      "+----------+-----+\n",
      "|prediction|count|\n",
      "+----------+-----+\n",
      "|         1|  241|\n",
      "|         3|   17|\n",
      "|         2|  546|\n",
      "|         0|  149|\n",
      "+----------+-----+\n",
      "\n"
     ]
    }
   ],
   "source": [
    "cluster_df.groupBy('prediction').count().show()"
   ]
  },
  {
   "cell_type": "code",
   "execution_count": null,
   "id": "212495db-8249-4ff0-8bd2-2896646b6cb2",
   "metadata": {},
   "outputs": [],
   "source": []
  }
 ],
 "metadata": {
  "kernelspec": {
   "display_name": "Python 3 (ipykernel)",
   "language": "python",
   "name": "python3"
  },
  "language_info": {
   "codemirror_mode": {
    "name": "ipython",
    "version": 3
   },
   "file_extension": ".py",
   "mimetype": "text/x-python",
   "name": "python",
   "nbconvert_exporter": "python",
   "pygments_lexer": "ipython3",
   "version": "3.11.5"
  }
 },
 "nbformat": 4,
 "nbformat_minor": 5
}
